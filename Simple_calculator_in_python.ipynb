{
  "nbformat": 4,
  "nbformat_minor": 0,
  "metadata": {
    "colab": {
      "provenance": [],
      "collapsed_sections": [],
      "authorship_tag": "ABX9TyOWcnbf1M0pGyZD88HdOTPR",
      "include_colab_link": true
    },
    "kernelspec": {
      "name": "python3",
      "display_name": "Python 3"
    },
    "language_info": {
      "name": "python"
    }
  },
  "cells": [
    {
      "cell_type": "markdown",
      "metadata": {
        "id": "view-in-github",
        "colab_type": "text"
      },
      "source": [
        "<a href=\"https://colab.research.google.com/github/arumugammani02/Arumugam-M/blob/main/Simple_calculator_in_python.ipynb\" target=\"_parent\"><img src=\"https://colab.research.google.com/assets/colab-badge.svg\" alt=\"Open In Colab\"/></a>"
      ]
    },
    {
      "cell_type": "code",
      "execution_count": 3,
      "metadata": {
        "colab": {
          "base_uri": "https://localhost:8080/"
        },
        "id": "iz26s8Qf4sOH",
        "outputId": "94707670-6c51-4de1-8756-eb0bc61729f0"
      },
      "outputs": [
        {
          "output_type": "stream",
          "name": "stdout",
          "text": [
            "select an operation to perform:\n",
            "1.ADDITION\n",
            "2.SUBTRACT\n",
            "3.MULTIPLY\n",
            "4.DIVIDE\n",
            "3\n",
            "Enter first number:12\n",
            "Enter second number:12\n",
            "The product is144\n"
          ]
        }
      ],
      "source": [
        "print('select an operation to perform:')\n",
        "print('1.ADDITION')\n",
        "print('2.SUBTRACT')\n",
        "print('3.MULTIPLY')\n",
        "print('4.DIVIDE')\n",
        "\n",
        "\n",
        "operation = input()\n",
        "\n",
        "\n",
        "if operation == '1':\n",
        "  num1 = input('Enter first number:')\n",
        "  num2 = input('Enter second number:')\n",
        "  print('The sum is' + str(int(num1) + int(num2)))\n",
        "elif operation == '2':\n",
        "  num1 = input('Enter first number:')\n",
        "  num2 = input('Enter second number:')\n",
        "  print('The difference is' + str(int(num1) - int(num2)))\n",
        "elif operation == '3':\n",
        "  num1 = input('Enter first number:')\n",
        "  num2 = input('Enter second number:')\n",
        "  print('The product is' + str(int(num1) * int(num2)))\n",
        "elif operation == '4':\n",
        "  num1 = input('Enter first number:')\n",
        "  num2 = input('Enter second number:')\n",
        "  print('The result is' + str(int(num1) / int(num2)))\n",
        "else:\n",
        "  print('Invalid Entry')\n"
      ]
    }
  ]
}